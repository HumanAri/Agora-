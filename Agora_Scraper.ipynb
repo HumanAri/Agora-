{
  "nbformat": 4,
  "nbformat_minor": 0,
  "metadata": {
    "colab": {
      "provenance": []
    },
    "kernelspec": {
      "name": "python3",
      "display_name": "Python 3"
    },
    "language_info": {
      "name": "python"
    }
  },
  "cells": [
    {
      "cell_type": "code",
      "execution_count": null,
      "metadata": {
        "colab": {
          "base_uri": "https://localhost:8080/"
        },
        "id": "pfjK_Yx27EVE",
        "outputId": "11cbb693-bb97-48f4-e369-a8a8919c0d20"
      },
      "outputs": [
        {
          "output_type": "stream",
          "name": "stdout",
          "text": [
            "Requirement already satisfied: beautifulsoup4 in /usr/local/lib/python3.10/dist-packages (4.11.2)\n",
            "Requirement already satisfied: soupsieve>1.2 in /usr/local/lib/python3.10/dist-packages (from beautifulsoup4) (2.5)\n"
          ]
        }
      ],
      "source": [
        "pip install beautifulsoup4"
      ]
    },
    {
      "cell_type": "code",
      "source": [
        "pip install selenium"
      ],
      "metadata": {
        "colab": {
          "base_uri": "https://localhost:8080/"
        },
        "id": "bS-NcdrHcMDg",
        "outputId": "7cffe544-64be-4cb4-ad90-4828e6e03b7e"
      },
      "execution_count": null,
      "outputs": [
        {
          "output_type": "stream",
          "name": "stdout",
          "text": [
            "Collecting selenium\n",
            "  Downloading selenium-4.15.2-py3-none-any.whl (10.2 MB)\n",
            "\u001b[2K     \u001b[90m━━━━━━━━━━━━━━━━━━━━━━━━━━━━━━━━━━━━━━━━\u001b[0m \u001b[32m10.2/10.2 MB\u001b[0m \u001b[31m16.1 MB/s\u001b[0m eta \u001b[36m0:00:00\u001b[0m\n",
            "\u001b[?25hRequirement already satisfied: urllib3[socks]<3,>=1.26 in /usr/local/lib/python3.10/dist-packages (from selenium) (2.0.7)\n",
            "Collecting trio~=0.17 (from selenium)\n",
            "  Downloading trio-0.23.1-py3-none-any.whl (448 kB)\n",
            "\u001b[2K     \u001b[90m━━━━━━━━━━━━━━━━━━━━━━━━━━━━━━━━━━━━━━━━\u001b[0m \u001b[32m448.3/448.3 kB\u001b[0m \u001b[31m43.8 MB/s\u001b[0m eta \u001b[36m0:00:00\u001b[0m\n",
            "\u001b[?25hCollecting trio-websocket~=0.9 (from selenium)\n",
            "  Downloading trio_websocket-0.11.1-py3-none-any.whl (17 kB)\n",
            "Requirement already satisfied: certifi>=2021.10.8 in /usr/local/lib/python3.10/dist-packages (from selenium) (2023.7.22)\n",
            "Requirement already satisfied: attrs>=20.1.0 in /usr/local/lib/python3.10/dist-packages (from trio~=0.17->selenium) (23.1.0)\n",
            "Requirement already satisfied: sortedcontainers in /usr/local/lib/python3.10/dist-packages (from trio~=0.17->selenium) (2.4.0)\n",
            "Requirement already satisfied: idna in /usr/local/lib/python3.10/dist-packages (from trio~=0.17->selenium) (3.4)\n",
            "Collecting outcome (from trio~=0.17->selenium)\n",
            "  Downloading outcome-1.3.0.post0-py2.py3-none-any.whl (10 kB)\n",
            "Requirement already satisfied: sniffio>=1.3.0 in /usr/local/lib/python3.10/dist-packages (from trio~=0.17->selenium) (1.3.0)\n",
            "Requirement already satisfied: exceptiongroup>=1.0.0rc9 in /usr/local/lib/python3.10/dist-packages (from trio~=0.17->selenium) (1.1.3)\n",
            "Collecting wsproto>=0.14 (from trio-websocket~=0.9->selenium)\n",
            "  Downloading wsproto-1.2.0-py3-none-any.whl (24 kB)\n",
            "Requirement already satisfied: pysocks!=1.5.7,<2.0,>=1.5.6 in /usr/local/lib/python3.10/dist-packages (from urllib3[socks]<3,>=1.26->selenium) (1.7.1)\n",
            "Collecting h11<1,>=0.9.0 (from wsproto>=0.14->trio-websocket~=0.9->selenium)\n",
            "  Downloading h11-0.14.0-py3-none-any.whl (58 kB)\n",
            "\u001b[2K     \u001b[90m━━━━━━━━━━━━━━━━━━━━━━━━━━━━━━━━━━━━━━━━\u001b[0m \u001b[32m58.3/58.3 kB\u001b[0m \u001b[31m8.0 MB/s\u001b[0m eta \u001b[36m0:00:00\u001b[0m\n",
            "\u001b[?25hInstalling collected packages: outcome, h11, wsproto, trio, trio-websocket, selenium\n",
            "Successfully installed h11-0.14.0 outcome-1.3.0.post0 selenium-4.15.2 trio-0.23.1 trio-websocket-0.11.1 wsproto-1.2.0\n"
          ]
        }
      ]
    },
    {
      "cell_type": "code",
      "source": [
        "pip install webdriver-manager"
      ],
      "metadata": {
        "colab": {
          "base_uri": "https://localhost:8080/"
        },
        "id": "lwljhMf-cRjV",
        "outputId": "f5ef6f23-ca0d-44bb-ef5b-4dc11e534e65"
      },
      "execution_count": null,
      "outputs": [
        {
          "output_type": "stream",
          "name": "stdout",
          "text": [
            "Collecting webdriver-manager\n",
            "  Downloading webdriver_manager-4.0.1-py2.py3-none-any.whl (27 kB)\n",
            "Requirement already satisfied: requests in /usr/local/lib/python3.10/dist-packages (from webdriver-manager) (2.31.0)\n",
            "Collecting python-dotenv (from webdriver-manager)\n",
            "  Downloading python_dotenv-1.0.0-py3-none-any.whl (19 kB)\n",
            "Requirement already satisfied: packaging in /usr/local/lib/python3.10/dist-packages (from webdriver-manager) (23.2)\n",
            "Requirement already satisfied: charset-normalizer<4,>=2 in /usr/local/lib/python3.10/dist-packages (from requests->webdriver-manager) (3.3.2)\n",
            "Requirement already satisfied: idna<4,>=2.5 in /usr/local/lib/python3.10/dist-packages (from requests->webdriver-manager) (3.4)\n",
            "Requirement already satisfied: urllib3<3,>=1.21.1 in /usr/local/lib/python3.10/dist-packages (from requests->webdriver-manager) (2.0.7)\n",
            "Requirement already satisfied: certifi>=2017.4.17 in /usr/local/lib/python3.10/dist-packages (from requests->webdriver-manager) (2023.7.22)\n",
            "Installing collected packages: python-dotenv, webdriver-manager\n",
            "Successfully installed python-dotenv-1.0.0 webdriver-manager-4.0.1\n"
          ]
        }
      ]
    },
    {
      "cell_type": "code",
      "source": [
        "import bs4\n",
        "from bs4 import BeautifulSoup\n",
        "import requests\n",
        "import re\n",
        "import nltk\n",
        "nltk.download('wordnet')\n",
        "from nltk.corpus import wordnet\n",
        "from selenium import webdriver\n",
        "from webdriver_manager.chrome import ChromeDriverManager"
      ],
      "metadata": {
        "colab": {
          "base_uri": "https://localhost:8080/"
        },
        "id": "qSfxI0oocHAT",
        "outputId": "cf2beb73-b035-4550-f168-4ab8359cccb9"
      },
      "execution_count": null,
      "outputs": [
        {
          "output_type": "stream",
          "name": "stderr",
          "text": [
            "[nltk_data] Downloading package wordnet to /root/nltk_data...\n"
          ]
        }
      ]
    },
    {
      "cell_type": "code",
      "source": [
        "def setUpDrive():\n",
        "  chrome_options = webdriver.ChromeOptions()\n",
        "  chrome_options.add_argument('--headless')\n",
        "  chrome_options.add_argument('--no-sandbox')\n",
        "  chrome_options.add_argument('--disable-dev-shm-usage')\n",
        "\n",
        "  driver = webdriver.Chrome(options=chrome_options)"
      ],
      "metadata": {
        "id": "J5eQ2HSUa_cT"
      },
      "execution_count": null,
      "outputs": []
    },
    {
      "cell_type": "code",
      "source": [
        "def findLink():\n",
        "  start = input(\"Enter your starting point: \").replace(\" \", \"+\")\n",
        "  urly = \"https://www.google.com/maps?\"+start\n",
        "  print(urly)"
      ],
      "metadata": {
        "colab": {
          "base_uri": "https://localhost:8080/"
        },
        "id": "j3VZYBB48Qf0",
        "outputId": "33d7ce5d-9a9e-4638-abba-d11e216be546"
      },
      "execution_count": null,
      "outputs": [
        {
          "output_type": "stream",
          "name": "stdout",
          "text": [
            "Enter your starting point: Worcester Dining\n",
            "https://www.google.com/maps?Worcester+Dining\n"
          ]
        }
      ]
    },
    {
      "cell_type": "code",
      "source": [],
      "metadata": {
        "id": "Nk2JEdgxIS7e"
      },
      "execution_count": null,
      "outputs": []
    },
    {
      "cell_type": "code",
      "source": [
        "url = \"https://www.google.com/maps/place/Worcester+Commons/@42.3932969,-72.5255048,17z/data=!4m8!3m7!1s0x89e6d279b7905b2f:0xbc52d728d8533ae1!8m2!3d42.3932969!4d-72.5255048!9m1!1b1!16s%2Fg%2F11b8zt4q29?entry=ttu\""
      ],
      "metadata": {
        "id": "Ji634W3eB4RW"
      },
      "execution_count": null,
      "outputs": []
    },
    {
      "cell_type": "code",
      "source": [
        "response = requests.get(url)"
      ],
      "metadata": {
        "id": "crUOlP-i9wKw"
      },
      "execution_count": null,
      "outputs": []
    },
    {
      "cell_type": "code",
      "source": [
        "driver.get(url)\n",
        "html = driver.page_source"
      ],
      "metadata": {
        "id": "5zRbNBsfHhRn"
      },
      "execution_count": null,
      "outputs": []
    },
    {
      "cell_type": "code",
      "source": [
        "soupy = BeautifulSoup(html)"
      ],
      "metadata": {
        "id": "Bg1Vh_WcIjAL"
      },
      "execution_count": null,
      "outputs": []
    },
    {
      "cell_type": "code",
      "source": [
        "elementsRev = soupy.find_all('div', class_=\"MyEned\")\n",
        "print(elementsRev)"
      ],
      "metadata": {
        "colab": {
          "base_uri": "https://localhost:8080/"
        },
        "id": "3dIGNnX5Ioqq",
        "outputId": "7022f481-7aff-4abb-849a-48a62dcdbf18"
      },
      "execution_count": null,
      "outputs": [
        {
          "output_type": "stream",
          "name": "stdout",
          "text": [
            "[<div class=\"MyEned\" id=\"ChZDSUhNMG9nS0VJQ0FnSUNlOV9QZUtREAE\" lang=\"en\" tabindex=\"-1\"><span class=\"wiI7pd\">Amazing place to have on campus food. They are #1 food for last few years for a reason. Tandoor, street food, nori I loved the most. Most of the stalls have halal options. Plenty of beverage options as well too pamper food lovers and students.</span></div>, <div class=\"MyEned\" id=\"ChZDSUhNMG9nS0VJQ0FnSURGMnZ5RUZREAE\" lang=\"en\" tabindex=\"-1\"><span class=\"wiI7pd\">Most amazing dining experience on a college campus!!!!  There is a reason UMass has had the #1 Dining I. The country for the past 9 years.  Incredible.</span><span> <button aria-controls=\"ChZDSUhNMG9nS0VJQ0FnSURGMnZ5RUZREAE\" aria-expanded=\"false\" aria-label=\"See more\" class=\"w8nwRe kyuRq\" data-review-id=\"ChZDSUhNMG9nS0VJQ0FnSURGMnZ5RUZREAE\" jsaction=\"pane.review.expandReview\" jslog=\"63707; track:click;metadata:WyIwYWhVS0V3alltZW5LdUwyQ0F4VVB0NFFJSFk0OURUQVEwcE1GQ0pVQktBRSJd\">More</button></span></div>, <div class=\"MyEned\" id=\"ChZDSUhNMG9nS0VJQ0FnSURoNy1EMVJ3EAE\" lang=\"en\" tabindex=\"-1\"><span class=\"wiI7pd\">Amazing food. I work here for my part time so can vouch for the hygiene too.</span></div>, <div class=\"MyEned\" id=\"ChdDSUhNMG9nS0VJQ0FnSURhdDVPRi1BRRAB\" lang=\"en\" tabindex=\"-1\"><span class=\"wiI7pd\">An outstanding food court with incredible variety of food. Food is outstanding and ranks with top restaurants. Students at UMass Amherst are truely spoiled as food was not like that when i was in college. Building is clean and well …</span><span> <button aria-controls=\"ChdDSUhNMG9nS0VJQ0FnSURhdDVPRi1BRRAB\" aria-expanded=\"false\" aria-label=\"See more\" class=\"w8nwRe kyuRq\" data-review-id=\"ChdDSUhNMG9nS0VJQ0FnSURhdDVPRi1BRRAB\" jsaction=\"pane.review.expandReview\" jslog=\"63707; track:click;metadata:WyIwYWhVS0V3alltZW5LdUwyQ0F4VVB0NFFJSFk0OURUQVEwcE1GQ0wwQktBTSJd\">More</button></span></div>, <div class=\"MyEned\" id=\"ChdDSUhNMG9nS0VJQ0FnSURaanFhNnFnRRAB\" lang=\"en\" tabindex=\"-1\"><span class=\"wiI7pd\">Worst dinning halls. Have chicken thigh and only chicken thigh in all dishes, from Ramen to Chinese to Middle Eastern cuisine to Wok. Sushi and Taco stations are closed on weekends.</span></div>, <div class=\"MyEned\" id=\"ChZDSUhNMG9nS0VJQ0FnSURSaVlMN0pnEAE\" lang=\"en\" tabindex=\"-1\"><span class=\"wiI7pd\">Design over function. One of the best looking dining halls on campus. Unfortunately, it's impossible to find seating during normal eating hours, so have fun walking in circles for 15 minutes before finding a seat. I still go here often because of its convenient location.</span></div>, <div class=\"MyEned\" id=\"ChdDSUhNMG9nS0VJQ0FnSUNocXNXQXJBRRAB\" lang=\"en\" tabindex=\"-1\"><span class=\"wiI7pd\">I was impressed with this dining hub at UMass Amherst. We also ate free because we were the family of a student. They had every kind of food you could want, served buffet style. There was everything from Chinese, Indian, Middle Eastern, …</span><span> <button aria-controls=\"ChdDSUhNMG9nS0VJQ0FnSUNocXNXQXJBRRAB\" aria-expanded=\"false\" aria-label=\"See more\" class=\"w8nwRe kyuRq\" data-review-id=\"ChdDSUhNMG9nS0VJQ0FnSUNocXNXQXJBRRAB\" jsaction=\"pane.review.expandReview\" jslog=\"63707; track:click;metadata:WyIwYWhVS0V3alltZW5LdUwyQ0F4VVB0NFFJSFk0OURUQVEwcE1GQ05rQktBWSJd\">More</button></span></div>, <div class=\"MyEned\" id=\"ChZDSUhNMG9nS0VJQ0FnSURabi1pTFNREAE\" lang=\"en\" tabindex=\"-1\"><span class=\"wiI7pd\">Always good, way better than any other school and most restaurants.</span></div>]\n"
          ]
        }
      ]
    },
    {
      "cell_type": "code",
      "source": [
        "revs = soupy.find_all('span', class_=\"wiI7pd\")\n",
        "print(revs)"
      ],
      "metadata": {
        "colab": {
          "base_uri": "https://localhost:8080/"
        },
        "id": "JTWhWkYwKQRE",
        "outputId": "a11a91aa-3464-454e-b7aa-8d6f680884c4"
      },
      "execution_count": null,
      "outputs": [
        {
          "output_type": "stream",
          "name": "stdout",
          "text": [
            "[<span class=\"wiI7pd\">Amazing place to have on campus food. They are #1 food for last few years for a reason. Tandoor, street food, nori I loved the most. Most of the stalls have halal options. Plenty of beverage options as well too pamper food lovers and students.</span>, <span class=\"wiI7pd\">Most amazing dining experience on a college campus!!!!  There is a reason UMass has had the #1 Dining I. The country for the past 9 years.  Incredible.</span>, <span class=\"wiI7pd\">Amazing food. I work here for my part time so can vouch for the hygiene too.</span>, <span class=\"wiI7pd\">An outstanding food court with incredible variety of food. Food is outstanding and ranks with top restaurants. Students at UMass Amherst are truely spoiled as food was not like that when i was in college. Building is clean and well …</span>, <span class=\"wiI7pd\">Worst dinning halls. Have chicken thigh and only chicken thigh in all dishes, from Ramen to Chinese to Middle Eastern cuisine to Wok. Sushi and Taco stations are closed on weekends.</span>, <span class=\"wiI7pd\">Design over function. One of the best looking dining halls on campus. Unfortunately, it's impossible to find seating during normal eating hours, so have fun walking in circles for 15 minutes before finding a seat. I still go here often because of its convenient location.</span>, <span class=\"wiI7pd\">I was impressed with this dining hub at UMass Amherst. We also ate free because we were the family of a student. They had every kind of food you could want, served buffet style. There was everything from Chinese, Indian, Middle Eastern, …</span>, <span class=\"wiI7pd\">Always good, way better than any other school and most restaurants.</span>]\n"
          ]
        }
      ]
    },
    {
      "cell_type": "code",
      "source": [
        "revList = []\n",
        "for review in revs:\n",
        "  revList.append(str(review).strip(\"<span class=\\\"wiI7pd\\\">\").strip(\"</span>\"))"
      ],
      "metadata": {
        "id": "lJ0bDV-VLGyG"
      },
      "execution_count": null,
      "outputs": []
    },
    {
      "cell_type": "code",
      "source": [
        "print(revList)"
      ],
      "metadata": {
        "id": "Yen-5RFv5x7M",
        "outputId": "612a99d9-5a44-408d-bb2f-1ad591c30abc",
        "colab": {
          "base_uri": "https://localhost:8080/"
        }
      },
      "execution_count": null,
      "outputs": [
        {
          "output_type": "stream",
          "name": "stdout",
          "text": [
            "['Amazing place to have on campus food. They are #1 food for last few years for a reason. Tandoor, street food, nori I loved the most. Most of the stalls have halal options. Plenty of beverage options as well too pamper food lovers and students.', 'Most amazing dining experience on a college campus!!!!  There is a reason UMass has had the #1 Dining I. The country for the past 9 years.  Incredible.', 'Amazing food. I work here for my part time so can vouch for the hygiene too.', 'An outstanding food court with incredible variety of food. Food is outstanding and ranks with top restaurants. Students at UMass Amherst are truely spoiled as food was not like that when i was in college. Building is clean and well …', 'Worst dinning halls. Have chicken thigh and only chicken thigh in all dishes, from Ramen to Chinese to Middle Eastern cuisine to Wok. Sushi and Taco stations are closed on weekends.', \"Design over function. One of the best looking dining halls on campus. Unfortunately, it's impossible to find seating during normal eating hours, so have fun walking in circles for 15 minutes before finding a seat. I still go here often because of its convenient location.\", 'mpressed with this dining hub at UMass Amherst. We also ate free because we were the family of a student. They had every kind of food you could want, served buffet style. There was everything from Chinese, Indian, Middle Eastern, …', 'Always good, way better than any other school and most restaurants.']\n"
          ]
        }
      ]
    },
    {
      "cell_type": "code",
      "source": [
        "fear = input(\"Area of concern: \")"
      ],
      "metadata": {
        "id": "qm-OgcEu8-cJ",
        "outputId": "8b2494d8-7b07-44cd-c58c-1de23c417619",
        "colab": {
          "base_uri": "https://localhost:8080/"
        }
      },
      "execution_count": null,
      "outputs": [
        {
          "name": "stdout",
          "output_type": "stream",
          "text": [
            "Area of concern: pizza\n"
          ]
        }
      ]
    },
    {
      "cell_type": "code",
      "source": [
        "# Finding hypernyms\n",
        "syn = wordnet.synsets(fear)[0]\n",
        "hypernyms = syn.hypernyms()\n",
        "print(f\"Hypernyms of {fear}: \", hypernyms)\n",
        "\n",
        "# Finding hyponyms\n",
        "syn = wordnet.synsets(fear)[0]\n",
        "hyponyms = syn.hyponyms()\n",
        "print(f\"Hyponyms of {fear}: \", hyponyms)"
      ],
      "metadata": {
        "id": "X1aoE6gI7p4k",
        "outputId": "75a54989-ecf6-4bdd-92ea-c8594f99022b",
        "colab": {
          "base_uri": "https://localhost:8080/"
        }
      },
      "execution_count": null,
      "outputs": [
        {
          "output_type": "stream",
          "name": "stdout",
          "text": [
            "Hypernyms of pizza:  [Synset('dish.n.02')]\n",
            "Hyponyms of pizza:  [Synset('anchovy_pizza.n.01'), Synset('cheese_pizza.n.01'), Synset('pepperoni_pizza.n.01'), Synset('sausage_pizza.n.01'), Synset('sicilian_pizza.n.01')]\n"
          ]
        }
      ]
    },
    {
      "cell_type": "code",
      "source": [
        "relevant = []\n",
        "\n",
        "relevant.append(fear)\n",
        "\n",
        "for whatever in hyponyms:\n",
        "  temp = whatever.name().replace(\"_\", \" \")\n",
        "  relevant.append(re.sub(\"\\.n.*\", \"\", temp, 2))\n",
        "\n",
        "for whatever in hypernyms:\n",
        "  temp = whatever.name().replace(\"_\", \" \")\n",
        "  relevant.append(re.sub(\"\\.n.*\", \"\", temp, 2))\n",
        "\n",
        "print(relevant)"
      ],
      "metadata": {
        "id": "80XfTQKP-Mg5",
        "outputId": "911b9956-c8e2-471c-e06f-f8fce7b1d026",
        "colab": {
          "base_uri": "https://localhost:8080/"
        }
      },
      "execution_count": null,
      "outputs": [
        {
          "output_type": "stream",
          "name": "stdout",
          "text": [
            "['pizza', 'anchovy pizza', 'cheese pizza', 'pepperoni pizza', 'sausage pizza', 'sicilian pizza', 'dish']\n"
          ]
        }
      ]
    },
    {
      "cell_type": "code",
      "source": [
        "relCount = 0\n",
        "count = len(revList[0])\n",
        "for n in range(8):\n",
        "  for word in revList[n].split(\" \"):\n",
        "    #count += 1\n",
        "    #print(word)\n",
        "    if word in relevant:\n",
        "      relCount += 1\n",
        "      print(\"Relevant: \"+word)\n",
        "\n",
        "#print(count)\n",
        "#print(relCount)\n",
        "print(1000*(relCount/count))"
      ],
      "metadata": {
        "id": "CQEAv40i-DDZ",
        "outputId": "8c0bcc20-1d70-4b6c-dc8e-a1bf96c38afe",
        "colab": {
          "base_uri": "https://localhost:8080/"
        }
      },
      "execution_count": null,
      "outputs": [
        {
          "output_type": "stream",
          "name": "stdout",
          "text": [
            "0.0\n"
          ]
        }
      ]
    }
  ]
}